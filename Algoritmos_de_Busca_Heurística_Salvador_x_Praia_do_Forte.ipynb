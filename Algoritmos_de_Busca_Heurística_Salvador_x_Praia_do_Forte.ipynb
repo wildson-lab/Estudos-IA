{
  "nbformat": 4,
  "nbformat_minor": 0,
  "metadata": {
    "colab": {
      "provenance": [],
      "authorship_tag": "ABX9TyMhxG7IDhWhb21TBALn5mrv",
      "include_colab_link": true
    },
    "kernelspec": {
      "name": "python3",
      "display_name": "Python 3"
    },
    "language_info": {
      "name": "python"
    }
  },
  "cells": [
    {
      "cell_type": "markdown",
      "metadata": {
        "id": "view-in-github",
        "colab_type": "text"
      },
      "source": [
        "<a href=\"https://colab.research.google.com/github/wildson-lab/Estudos-IA/blob/main/Algoritmos_de_Busca_Heur%C3%ADstica_Salvador_x_Praia_do_Forte.ipynb\" target=\"_parent\"><img src=\"https://colab.research.google.com/assets/colab-badge.svg\" alt=\"Open In Colab\"/></a>"
      ]
    },
    {
      "cell_type": "markdown",
      "source": [
        "Este problema é baseado no mapa das cidades da Romênia, um problema típico de algoritmos de busca. O objetivo do problema é determinar o melhor caminho entre duas cidades, sendo comum o uso de algoritmos heurísticos de busca para sua resolução.\n",
        "\n"
      ],
      "metadata": {
        "id": "PIjoMzagjHzX"
      }
    }
  ]
}